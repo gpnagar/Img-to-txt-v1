{
 "cells": [
  {
   "cell_type": "markdown",
   "metadata": {},
   "source": [
    "Import cv2img.py for Image preprocessing"
   ]
  },
  {
   "cell_type": "code",
   "execution_count": 1,
   "metadata": {},
   "outputs": [
    {
     "name": "stdout",
     "output_type": "stream",
     "text": [
      "DONE!\n"
     ]
    }
   ],
   "source": [
    "import Cv2ImageResize as c2g\n",
    "c2g.mains(imgin=\"certs\\\\10.jpeg\", imgout=\"cert1\")"
   ]
  },
  {
   "cell_type": "markdown",
   "metadata": {},
   "source": [
    "Import AzureReadAPI.py a Read API wrapper!"
   ]
  },
  {
   "cell_type": "code",
   "execution_count": 27,
   "metadata": {},
   "outputs": [],
   "source": [
    "import AzureReadAPI as rd\n",
    "test = rd.mains(img_path=\"certs/12.jpeg\")"
   ]
  },
  {
   "cell_type": "code",
   "execution_count": 28,
   "metadata": {},
   "outputs": [
    {
     "data": {
      "text/plain": [
       "'Fy CERTIFICATE EDO FABRICA OF PARTICIPATION This certificate is proudly presented to ALPHONS JAIMON VARGHESE for participating in the ARTIFICIAL INTELLIGENCE WORKSHOP conducted by ETHICAL EDUFABRICA PVT. LTD. on 12th & 13th October 2019 at Vishwakarma Institute of Technology, Pune Miraj Sing Director Ethical Edufabrica Put Ltd'"
      ]
     },
     "execution_count": 28,
     "metadata": {},
     "output_type": "execute_result"
    }
   ],
   "source": [
    "test"
   ]
  },
  {
   "cell_type": "markdown",
   "metadata": {},
   "source": [
    "### NLTK + Spacy!\n",
    "We dont need cv2img for this as Azure Cognitive Service Read API uses a whole different methed for text extraction better use a HIGH resolution pic but less than 20mb!\n",
    "\n",
    "[Towards Data Science: Named Entity Recognition with NLTK and SpaCy](https://towardsdatascience.com/named-entity-recognition-with-nltk-and-spacy-8c4a7d88e7da)"
   ]
  },
  {
   "cell_type": "code",
   "execution_count": 32,
   "metadata": {},
   "outputs": [],
   "source": [
    "import nltk\n",
    "from nltk.tokenize import word_tokenize\n",
    "from nltk.tag import pos_tag"
   ]
  },
  {
   "cell_type": "code",
   "execution_count": 33,
   "metadata": {},
   "outputs": [],
   "source": [
    "# ex = 'European authorities fined Google a record $5.1 billion on Wednesday for abusing its power in the mobile phone market and ordered the company to alter its practices'\n",
    "ex = test"
   ]
  },
  {
   "cell_type": "code",
   "execution_count": 34,
   "metadata": {},
   "outputs": [],
   "source": [
    "def preprocess(sent):\n",
    "    sent = nltk.word_tokenize(sent)\n",
    "    sent = nltk.pos_tag(sent)\n",
    "    return sent"
   ]
  },
  {
   "cell_type": "code",
   "execution_count": 35,
   "metadata": {
    "scrolled": true
   },
   "outputs": [
    {
     "data": {
      "text/plain": [
       "[('Fy', 'NNP'),\n",
       " ('CERTIFICATE', 'NNP'),\n",
       " ('EDO', 'NNP'),\n",
       " ('FABRICA', 'NNP'),\n",
       " ('OF', 'NNP'),\n",
       " ('PARTICIPATION', 'NNP'),\n",
       " ('This', 'DT'),\n",
       " ('certificate', 'NN'),\n",
       " ('is', 'VBZ'),\n",
       " ('proudly', 'RB'),\n",
       " ('presented', 'VBN'),\n",
       " ('to', 'TO'),\n",
       " ('ALPHONS', 'NNP'),\n",
       " ('JAIMON', 'NNP'),\n",
       " ('VARGHESE', 'NNP'),\n",
       " ('for', 'IN'),\n",
       " ('participating', 'VBG'),\n",
       " ('in', 'IN'),\n",
       " ('the', 'DT'),\n",
       " ('ARTIFICIAL', 'NNP'),\n",
       " ('INTELLIGENCE', 'NNP'),\n",
       " ('WORKSHOP', 'NNP'),\n",
       " ('conducted', 'VBN'),\n",
       " ('by', 'IN'),\n",
       " ('ETHICAL', 'NNP'),\n",
       " ('EDUFABRICA', 'NNP'),\n",
       " ('PVT', 'NNP'),\n",
       " ('.', '.'),\n",
       " ('LTD.', 'NNP'),\n",
       " ('on', 'IN'),\n",
       " ('12th', 'CD'),\n",
       " ('&', 'CC'),\n",
       " ('13th', 'CD'),\n",
       " ('October', 'NNP'),\n",
       " ('2019', 'CD'),\n",
       " ('at', 'IN'),\n",
       " ('Vishwakarma', 'NNP'),\n",
       " ('Institute', 'NNP'),\n",
       " ('of', 'IN'),\n",
       " ('Technology', 'NNP'),\n",
       " (',', ','),\n",
       " ('Pune', 'NNP'),\n",
       " ('Miraj', 'NNP'),\n",
       " ('Sing', 'NNP'),\n",
       " ('Director', 'NNP'),\n",
       " ('Ethical', 'NNP'),\n",
       " ('Edufabrica', 'NNP'),\n",
       " ('Put', 'VBD'),\n",
       " ('Ltd', 'NNP')]"
      ]
     },
     "execution_count": 35,
     "metadata": {},
     "output_type": "execute_result"
    }
   ],
   "source": [
    "sent = preprocess(ex)\n",
    "sent"
   ]
  },
  {
   "cell_type": "code",
   "execution_count": 36,
   "metadata": {},
   "outputs": [],
   "source": [
    "pattern = 'NP: {<DT>?<JJ>*<NN>}'"
   ]
  },
  {
   "cell_type": "code",
   "execution_count": 37,
   "metadata": {
    "scrolled": true
   },
   "outputs": [
    {
     "name": "stdout",
     "output_type": "stream",
     "text": [
      "(S\n",
      "  Fy/NNP\n",
      "  CERTIFICATE/NNP\n",
      "  EDO/NNP\n",
      "  FABRICA/NNP\n",
      "  OF/NNP\n",
      "  PARTICIPATION/NNP\n",
      "  (NP This/DT certificate/NN)\n",
      "  is/VBZ\n",
      "  proudly/RB\n",
      "  presented/VBN\n",
      "  to/TO\n",
      "  ALPHONS/NNP\n",
      "  JAIMON/NNP\n",
      "  VARGHESE/NNP\n",
      "  for/IN\n",
      "  participating/VBG\n",
      "  in/IN\n",
      "  the/DT\n",
      "  ARTIFICIAL/NNP\n",
      "  INTELLIGENCE/NNP\n",
      "  WORKSHOP/NNP\n",
      "  conducted/VBN\n",
      "  by/IN\n",
      "  ETHICAL/NNP\n",
      "  EDUFABRICA/NNP\n",
      "  PVT/NNP\n",
      "  ./.\n",
      "  LTD./NNP\n",
      "  on/IN\n",
      "  12th/CD\n",
      "  &/CC\n",
      "  13th/CD\n",
      "  October/NNP\n",
      "  2019/CD\n",
      "  at/IN\n",
      "  Vishwakarma/NNP\n",
      "  Institute/NNP\n",
      "  of/IN\n",
      "  Technology/NNP\n",
      "  ,/,\n",
      "  Pune/NNP\n",
      "  Miraj/NNP\n",
      "  Sing/NNP\n",
      "  Director/NNP\n",
      "  Ethical/NNP\n",
      "  Edufabrica/NNP\n",
      "  Put/VBD\n",
      "  Ltd/NNP)\n"
     ]
    }
   ],
   "source": [
    "cp = nltk.RegexpParser(pattern)\n",
    "cs = cp.parse(sent)\n",
    "print(cs)"
   ]
  },
  {
   "cell_type": "code",
   "execution_count": 38,
   "metadata": {
    "scrolled": true
   },
   "outputs": [
    {
     "name": "stdout",
     "output_type": "stream",
     "text": [
      "[('Fy', 'NNP', 'O'),\n",
      " ('CERTIFICATE', 'NNP', 'O'),\n",
      " ('EDO', 'NNP', 'O'),\n",
      " ('FABRICA', 'NNP', 'O'),\n",
      " ('OF', 'NNP', 'O'),\n",
      " ('PARTICIPATION', 'NNP', 'O'),\n",
      " ('This', 'DT', 'B-NP'),\n",
      " ('certificate', 'NN', 'I-NP'),\n",
      " ('is', 'VBZ', 'O'),\n",
      " ('proudly', 'RB', 'O'),\n",
      " ('presented', 'VBN', 'O'),\n",
      " ('to', 'TO', 'O'),\n",
      " ('ALPHONS', 'NNP', 'O'),\n",
      " ('JAIMON', 'NNP', 'O'),\n",
      " ('VARGHESE', 'NNP', 'O'),\n",
      " ('for', 'IN', 'O'),\n",
      " ('participating', 'VBG', 'O'),\n",
      " ('in', 'IN', 'O'),\n",
      " ('the', 'DT', 'O'),\n",
      " ('ARTIFICIAL', 'NNP', 'O'),\n",
      " ('INTELLIGENCE', 'NNP', 'O'),\n",
      " ('WORKSHOP', 'NNP', 'O'),\n",
      " ('conducted', 'VBN', 'O'),\n",
      " ('by', 'IN', 'O'),\n",
      " ('ETHICAL', 'NNP', 'O'),\n",
      " ('EDUFABRICA', 'NNP', 'O'),\n",
      " ('PVT', 'NNP', 'O'),\n",
      " ('.', '.', 'O'),\n",
      " ('LTD.', 'NNP', 'O'),\n",
      " ('on', 'IN', 'O'),\n",
      " ('12th', 'CD', 'O'),\n",
      " ('&', 'CC', 'O'),\n",
      " ('13th', 'CD', 'O'),\n",
      " ('October', 'NNP', 'O'),\n",
      " ('2019', 'CD', 'O'),\n",
      " ('at', 'IN', 'O'),\n",
      " ('Vishwakarma', 'NNP', 'O'),\n",
      " ('Institute', 'NNP', 'O'),\n",
      " ('of', 'IN', 'O'),\n",
      " ('Technology', 'NNP', 'O'),\n",
      " (',', ',', 'O'),\n",
      " ('Pune', 'NNP', 'O'),\n",
      " ('Miraj', 'NNP', 'O'),\n",
      " ('Sing', 'NNP', 'O'),\n",
      " ('Director', 'NNP', 'O'),\n",
      " ('Ethical', 'NNP', 'O'),\n",
      " ('Edufabrica', 'NNP', 'O'),\n",
      " ('Put', 'VBD', 'O'),\n",
      " ('Ltd', 'NNP', 'O')]\n"
     ]
    }
   ],
   "source": [
    "from nltk.chunk import conlltags2tree, tree2conlltags\n",
    "from pprint import pprint\n",
    "iob_tagged = tree2conlltags(cs)\n",
    "pprint(iob_tagged)"
   ]
  },
  {
   "cell_type": "code",
   "execution_count": 39,
   "metadata": {
    "scrolled": true
   },
   "outputs": [
    {
     "name": "stdout",
     "output_type": "stream",
     "text": [
      "(S\n",
      "  Fy/NNP\n",
      "  CERTIFICATE/NNP\n",
      "  EDO/NNP\n",
      "  (ORGANIZATION FABRICA/NNP OF/NNP)\n",
      "  PARTICIPATION/NNP\n",
      "  This/DT\n",
      "  certificate/NN\n",
      "  is/VBZ\n",
      "  proudly/RB\n",
      "  presented/VBN\n",
      "  to/TO\n",
      "  (ORGANIZATION ALPHONS/NNP)\n",
      "  JAIMON/NNP\n",
      "  VARGHESE/NNP\n",
      "  for/IN\n",
      "  participating/VBG\n",
      "  in/IN\n",
      "  the/DT\n",
      "  (ORGANIZATION ARTIFICIAL/NNP)\n",
      "  INTELLIGENCE/NNP\n",
      "  WORKSHOP/NNP\n",
      "  conducted/VBN\n",
      "  by/IN\n",
      "  (ORGANIZATION ETHICAL/NNP)\n",
      "  (ORGANIZATION EDUFABRICA/NNP)\n",
      "  PVT/NNP\n",
      "  ./.\n",
      "  LTD./NNP\n",
      "  on/IN\n",
      "  12th/CD\n",
      "  &/CC\n",
      "  13th/CD\n",
      "  October/NNP\n",
      "  2019/CD\n",
      "  at/IN\n",
      "  (ORGANIZATION Vishwakarma/NNP Institute/NNP)\n",
      "  of/IN\n",
      "  (GPE Technology/NNP)\n",
      "  ,/,\n",
      "  (PERSON Pune/NNP Miraj/NNP)\n",
      "  Sing/NNP\n",
      "  Director/NNP\n",
      "  (PERSON Ethical/NNP Edufabrica/NNP)\n",
      "  Put/VBD\n",
      "  (PERSON Ltd/NNP))\n"
     ]
    }
   ],
   "source": [
    "ne_tree = nltk.ne_chunk(sent)\n",
    "print(ne_tree)"
   ]
  },
  {
   "cell_type": "code",
   "execution_count": 40,
   "metadata": {},
   "outputs": [],
   "source": [
    "import spacy\n",
    "from spacy import displacy\n",
    "from collections import Counter\n",
    "import en_core_web_sm\n",
    "nlp = en_core_web_sm.load()"
   ]
  },
  {
   "cell_type": "code",
   "execution_count": 41,
   "metadata": {},
   "outputs": [
    {
     "name": "stdout",
     "output_type": "stream",
     "text": [
      "[('the ARTIFICIAL INTELLIGENCE WORKSHOP', 'ORG'),\n",
      " ('ETHICAL', 'ORG'),\n",
      " ('PVT', 'PRODUCT'),\n",
      " ('LTD', 'NORP'),\n",
      " ('12th & 13th', 'DATE'),\n",
      " ('October 2019', 'DATE'),\n",
      " ('Vishwakarma Institute of Technology', 'ORG'),\n",
      " ('Ethical Edufabrica', 'PERSON')]\n"
     ]
    }
   ],
   "source": [
    "sentence = 'European authorities fined Google a record $5.1 billion on Wednesday for abusing its power in the mobile phone market and ordered the company to alter its practices'\n",
    "doc = nlp(test)\n",
    "pprint([(X.text, X.label_) for X in doc.ents])"
   ]
  },
  {
   "cell_type": "code",
   "execution_count": 43,
   "metadata": {},
   "outputs": [
    {
     "data": {
      "text/html": [
       "<div class=\"entities\" style=\"line-height: 2.5\">Fy CERTIFICATE EDO FABRICA OF PARTICIPATION This certificate is proudly presented to ALPHONS JAIMON VARGHESE for participating in \n",
       "<mark class=\"entity\" style=\"background: #7aecec; padding: 0.45em 0.6em; margin: 0 0.25em; line-height: 1; border-radius: 0.35em; box-decoration-break: clone; -webkit-box-decoration-break: clone\">\n",
       "    the ARTIFICIAL INTELLIGENCE WORKSHOP\n",
       "    <span style=\"font-size: 0.8em; font-weight: bold; line-height: 1; border-radius: 0.35em; text-transform: uppercase; vertical-align: middle; margin-left: 0.5rem\">ORG</span>\n",
       "</mark>\n",
       " conducted by \n",
       "<mark class=\"entity\" style=\"background: #7aecec; padding: 0.45em 0.6em; margin: 0 0.25em; line-height: 1; border-radius: 0.35em; box-decoration-break: clone; -webkit-box-decoration-break: clone\">\n",
       "    ETHICAL\n",
       "    <span style=\"font-size: 0.8em; font-weight: bold; line-height: 1; border-radius: 0.35em; text-transform: uppercase; vertical-align: middle; margin-left: 0.5rem\">ORG</span>\n",
       "</mark>\n",
       " EDUFABRICA \n",
       "<mark class=\"entity\" style=\"background: #bfeeb7; padding: 0.45em 0.6em; margin: 0 0.25em; line-height: 1; border-radius: 0.35em; box-decoration-break: clone; -webkit-box-decoration-break: clone\">\n",
       "    PVT\n",
       "    <span style=\"font-size: 0.8em; font-weight: bold; line-height: 1; border-radius: 0.35em; text-transform: uppercase; vertical-align: middle; margin-left: 0.5rem\">PRODUCT</span>\n",
       "</mark>\n",
       ". \n",
       "<mark class=\"entity\" style=\"background: #c887fb; padding: 0.45em 0.6em; margin: 0 0.25em; line-height: 1; border-radius: 0.35em; box-decoration-break: clone; -webkit-box-decoration-break: clone\">\n",
       "    LTD\n",
       "    <span style=\"font-size: 0.8em; font-weight: bold; line-height: 1; border-radius: 0.35em; text-transform: uppercase; vertical-align: middle; margin-left: 0.5rem\">NORP</span>\n",
       "</mark>\n",
       ". on \n",
       "<mark class=\"entity\" style=\"background: #bfe1d9; padding: 0.45em 0.6em; margin: 0 0.25em; line-height: 1; border-radius: 0.35em; box-decoration-break: clone; -webkit-box-decoration-break: clone\">\n",
       "    12th & 13th\n",
       "    <span style=\"font-size: 0.8em; font-weight: bold; line-height: 1; border-radius: 0.35em; text-transform: uppercase; vertical-align: middle; margin-left: 0.5rem\">DATE</span>\n",
       "</mark>\n",
       " \n",
       "<mark class=\"entity\" style=\"background: #bfe1d9; padding: 0.45em 0.6em; margin: 0 0.25em; line-height: 1; border-radius: 0.35em; box-decoration-break: clone; -webkit-box-decoration-break: clone\">\n",
       "    October 2019\n",
       "    <span style=\"font-size: 0.8em; font-weight: bold; line-height: 1; border-radius: 0.35em; text-transform: uppercase; vertical-align: middle; margin-left: 0.5rem\">DATE</span>\n",
       "</mark>\n",
       " at \n",
       "<mark class=\"entity\" style=\"background: #7aecec; padding: 0.45em 0.6em; margin: 0 0.25em; line-height: 1; border-radius: 0.35em; box-decoration-break: clone; -webkit-box-decoration-break: clone\">\n",
       "    Vishwakarma Institute of Technology\n",
       "    <span style=\"font-size: 0.8em; font-weight: bold; line-height: 1; border-radius: 0.35em; text-transform: uppercase; vertical-align: middle; margin-left: 0.5rem\">ORG</span>\n",
       "</mark>\n",
       ", Pune Miraj Sing Director \n",
       "<mark class=\"entity\" style=\"background: #aa9cfc; padding: 0.45em 0.6em; margin: 0 0.25em; line-height: 1; border-radius: 0.35em; box-decoration-break: clone; -webkit-box-decoration-break: clone\">\n",
       "    Ethical Edufabrica\n",
       "    <span style=\"font-size: 0.8em; font-weight: bold; line-height: 1; border-radius: 0.35em; text-transform: uppercase; vertical-align: middle; margin-left: 0.5rem\">PERSON</span>\n",
       "</mark>\n",
       " Put Ltd</div>"
      ],
      "text/plain": [
       "<IPython.core.display.HTML object>"
      ]
     },
     "metadata": {},
     "output_type": "display_data"
    }
   ],
   "source": [
    "displacy.render(nlp(test), jupyter=True, style='ent')"
   ]
  },
  {
   "cell_type": "code",
   "execution_count": null,
   "metadata": {},
   "outputs": [],
   "source": []
  }
 ],
 "metadata": {
  "kernelspec": {
   "display_name": "image",
   "language": "python",
   "name": "image"
  },
  "language_info": {
   "codemirror_mode": {
    "name": "ipython",
    "version": 3
   },
   "file_extension": ".py",
   "mimetype": "text/x-python",
   "name": "python",
   "nbconvert_exporter": "python",
   "pygments_lexer": "ipython3",
   "version": "3.6.10"
  }
 },
 "nbformat": 4,
 "nbformat_minor": 4
}
