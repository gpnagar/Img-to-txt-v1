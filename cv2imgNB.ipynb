{
 "cells": [
  {
   "cell_type": "markdown",
   "metadata": {},
   "source": [
    "Import cv2img.py for Image preprocessing"
   ]
  },
  {
   "cell_type": "code",
   "execution_count": 36,
   "metadata": {},
   "outputs": [],
   "source": [
    "import cv2img"
   ]
  },
  {
   "cell_type": "code",
   "execution_count": 37,
   "metadata": {},
   "outputs": [
    {
     "name": "stdout",
     "output_type": "stream",
     "text": [
      "DONE!\n"
     ]
    }
   ],
   "source": [
    "cv2img.mains(imgin=\"certs\\\\10.jpeg\", imgout=\"cert1\")"
   ]
  },
  {
   "cell_type": "markdown",
   "metadata": {},
   "source": [
    "Import AzureReadAPI.py a Read API wrapper!"
   ]
  },
  {
   "cell_type": "code",
   "execution_count": 1,
   "metadata": {},
   "outputs": [],
   "source": [
    "import AzureReadAPI"
   ]
  },
  {
   "cell_type": "code",
   "execution_count": 2,
   "metadata": {},
   "outputs": [],
   "source": [
    "test = AzureReadAPI.mains(img_path=\"certs/16.jpeg\")"
   ]
  },
  {
   "cell_type": "code",
   "execution_count": 3,
   "metadata": {},
   "outputs": [
    {
     "data": {
      "text/plain": [
       "'27 -29 March Diginique Techlobe 2020 IIT ROORKEE |COGNIZANCE An IIT Roorkee Alumni Venture Dated: 28\"- 20\" feb 2020 Venue: MIT-WPU PUNe Certificate of Participation This is to certify that Mr. Alphons Jaimon has attended the two days workshop on \"Machine Learning & Artificial Intelligence\" conducted by Diginique TechLabs in association with Cognizance\\'20 IIT Roorkee. Sudhir Chaudhary Alok Birthare CEO Overall Coordinator Diginique TechLabs Cognizance\\' 20, HITR'"
      ]
     },
     "execution_count": 3,
     "metadata": {},
     "output_type": "execute_result"
    }
   ],
   "source": [
    "test"
   ]
  },
  {
   "cell_type": "markdown",
   "metadata": {},
   "source": [
    "### NLTK + Spacy!\n",
    "We dont need cv2img for this as Azure Cognitive Service Read API uses a whole different methed for text extraction better use a HIGH resolution pic but less than 20mb!"
   ]
  },
  {
   "cell_type": "code",
   "execution_count": null,
   "metadata": {},
   "outputs": [],
   "source": []
  }
 ],
 "metadata": {
  "kernelspec": {
   "display_name": "image",
   "language": "python",
   "name": "image"
  },
  "language_info": {
   "codemirror_mode": {
    "name": "ipython",
    "version": 3
   },
   "file_extension": ".py",
   "mimetype": "text/x-python",
   "name": "python",
   "nbconvert_exporter": "python",
   "pygments_lexer": "ipython3",
   "version": "3.6.10"
  }
 },
 "nbformat": 4,
 "nbformat_minor": 4
}
