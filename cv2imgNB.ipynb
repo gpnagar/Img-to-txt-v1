{
 "cells": [
  {
   "cell_type": "code",
   "execution_count": 36,
   "metadata": {},
   "outputs": [],
   "source": [
    "import cv2img"
   ]
  },
  {
   "cell_type": "code",
   "execution_count": 37,
   "metadata": {},
   "outputs": [
    {
     "name": "stdout",
     "output_type": "stream",
     "text": [
      "DONE!\n"
     ]
    }
   ],
   "source": [
    "cv2img.mains(imgin=\"certs\\\\10.jpeg\", imgout=\"cert1\")"
   ]
  },
  {
   "cell_type": "code",
   "execution_count": 2,
   "metadata": {},
   "outputs": [],
   "source": [
    "endpoint = \"https://westcentralus.api.cognitive.microsoft.com/vision\"\n",
    "text_recognition_url = endpoint + \"/v2.1/read/core/asyncBatchAnalyze\"\n",
    "subscription_key = \"5352d0636fc04db2923a94a6e11a3ce8\"\n",
    "image_path = \"certs\\\\22.jpg\""
   ]
  },
  {
   "cell_type": "code",
   "execution_count": 4,
   "metadata": {},
   "outputs": [
    {
     "name": "stdout",
     "output_type": "stream",
     "text": [
      " Extracting text requires two API calls: One call to submit the image for processing, the other to retrieve the text found in the image. The recognized text isn't immediately available, so poll to wait for completion.\n",
      "In Association with . I |1. 1 1. Networking CISCO Academy O' STE CODATHON Get Ready to Code-collab-compete Organised by 690 EduSkills Nation Building Through Skills Certificate of Participation Awarded to Alphons Jaimon for participating in \"Cisco NetAcad - ISTE National Level CODATHON-2020\" Prof. Vijay D. Vaidya Mr. Anurag Srivastava Mr. Shubhajit Jagadev Executive Secretary Program Manager Executive Director, EduSkills India Society of Technical Education Corporate Affairs - Asia Pacific Head, Cisco ASC & ITC, India New Delhi, India Cisco Systems NetAcad Advisory Board Member\n"
     ]
    }
   ],
   "source": [
    "import os, sys, requests, time\n",
    "from PIL import Image\n",
    "from io import BytesIO\n",
    "image_data = open(image_path, \"rb\").read()\n",
    "headers = {'Ocp-Apim-Subscription-Key': subscription_key, 'Content-Type': 'application/octet-stream'}\n",
    "response = requests.post(text_recognition_url, headers=headers, data = image_data)\n",
    "response.raise_for_status()\n",
    "print(\" Extracting text requires two API calls: One call to submit the image for processing, the other to retrieve the text found in the image. The recognized text isn't immediately available, so poll to wait for completion.\")\n",
    "analysis = {}\n",
    "poll = True\n",
    "while (poll):\n",
    "    analysis = (requests.get( response.headers[\"Operation-Location\"], headers=headers)).json()\n",
    "    time.sleep(1)\n",
    "    if (\"recognitionResults\" in analysis): poll = False\n",
    "    if (\"status\" in analysis and analysis['status'] == 'Failed'): poll = False\n",
    "text = []\n",
    "if (\"recognitionResults\" in analysis):\n",
    "    text = [(line[\"text\"]) for line in analysis[\"recognitionResults\"][0][\"lines\"]]\n",
    "print(\" \".join(text))"
   ]
  },
  {
   "cell_type": "code",
   "execution_count": null,
   "metadata": {},
   "outputs": [],
   "source": []
  }
 ],
 "metadata": {
  "kernelspec": {
   "display_name": "image",
   "language": "python",
   "name": "image"
  },
  "language_info": {
   "codemirror_mode": {
    "name": "ipython",
    "version": 3
   },
   "file_extension": ".py",
   "mimetype": "text/x-python",
   "name": "python",
   "nbconvert_exporter": "python",
   "pygments_lexer": "ipython3",
   "version": "3.6.10"
  }
 },
 "nbformat": 4,
 "nbformat_minor": 4
}
