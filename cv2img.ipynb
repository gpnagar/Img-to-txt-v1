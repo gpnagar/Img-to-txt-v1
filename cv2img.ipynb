{
 "cells": [
  {
   "cell_type": "code",
   "execution_count": null,
   "metadata": {},
   "outputs": [],
   "source": [
    "import imutils\n",
    "import cv2\n",
    "import numpy as np\n",
    "import matplotlib.pyplot as plt\n",
    "import matplotlib.image as pli\n",
    "from skimage.filters import threshold_local"
   ]
  },
  {
   "cell_type": "code",
   "execution_count": null,
   "metadata": {},
   "outputs": [],
   "source": [
    "# parameter for image to scan/process\n",
    "args_image = \"certs/20.png\"\n",
    "# read the image\n",
    "image = cv2.imread(args_image)\n",
    "orig = image.copy()# show the original image\n",
    "#---------------------------------------------------------\n",
    "# convert image to gray scale. This will remove any color noise\n",
    "grayImage = cv2.cvtColor(image, cv2.COLOR_BGR2GRAY)# blur the image to remove high frequency noise \n",
    "# it helps in finding/detecting contour in gray image\n",
    "grayImageBlur = cv2.blur(grayImage,(3,3))# then we performed canny edge detection\n",
    "edgedImage = cv2.Canny(grayImageBlur, 100, 300, 3)# show the gray and edge-detected image\n",
    "#---------------------------------------------------------\n",
    "# find the contours in the edged image, sort area wise \n",
    "# keeping only the largest ones \n",
    "allContours = cv2.findContours(edgedImage.copy(), cv2.RETR_LIST, cv2.CHAIN_APPROX_SIMPLE)\n",
    "allContours = imutils.grab_contours(allContours)# descending sort contours area and keep top 1\n",
    "allContours = sorted(allContours, key=cv2.contourArea, reverse=True)[:1]# approximate the contour\n",
    "perimeter = cv2.arcLength(allContours[0], True) \n",
    "ROIdimensions = cv2.approxPolyDP(allContours[0], 0.02*perimeter, True)# show the contour on image\n",
    "# cv2.drawContours(image, [ROIdimensions], -1, (0,255,0), 2)\n",
    "#---------------------------------------------------------\n",
    "# reshape coordinates array\n",
    "ROIdimensions = ROIdimensions.reshape(4,2)# list to hold ROI coordinates\n",
    "rect = np.zeros((4,2), dtype=\"float32\")# top left corner will have the smallest sum, \n",
    "# bottom right corner will have the largest sum\n",
    "s = np.sum(ROIdimensions, axis=1)\n",
    "rect[0] = ROIdimensions[np.argmin(s)]\n",
    "rect[2] = ROIdimensions[np.argmax(s)]# top-right will have smallest difference\n",
    "# botton left will have largest difference\n",
    "diff = np.diff(ROIdimensions, axis=1)\n",
    "rect[1] = ROIdimensions[np.argmin(diff)]\n",
    "rect[3] = ROIdimensions[np.argmax(diff)]# top-left, top-right, bottom-right, bottom-left\n",
    "(tl, tr, br, bl) = rect# compute width of ROI\n",
    "widthA = np.sqrt((tl[0] - tr[0])**2 + (tl[1] - tr[1])**2 )\n",
    "widthB = np.sqrt((bl[0] - br[0])**2 + (bl[1] - br[1])**2 )\n",
    "maxWidth = max(int(widthA), int(widthB))# compute height of ROI\n",
    "heightA = np.sqrt((tl[0] - bl[0])**2 + (tl[1] - bl[1])**2 )\n",
    "heightB = np.sqrt((tr[0] - br[0])**2 + (tr[1] - br[1])**2 )\n",
    "maxHeight = max(int(heightA), int(heightB))\n",
    "#---------------------------------------------------------\n",
    "# Set of destinations points for \"birds eye view\"\n",
    "# dimension of the new image\n",
    "dst = np.array([\n",
    "    [0,0],\n",
    "    [maxWidth-1, 0],\n",
    "    [maxWidth-1, maxHeight-1],\n",
    "    [0, maxHeight-1]], dtype=\"float32\")# compute the perspective transform matrix and then apply it\n",
    "transformMatrix = cv2.getPerspectiveTransform(rect, dst)# transform ROI\n",
    "scan = cv2.warpPerspective(orig, transformMatrix, (maxWidth, maxHeight))# lets see the wraped document\n",
    "#---------------------------------------------------------\n",
    "# convert to gray\n",
    "scanGray = cv2.cvtColor(scan, cv2.COLOR_BGR2GRAY)# display final gray image\n",
    "#---------------------------------------------------------\n",
    "# increase contrast incase its document\n",
    "T = threshold_local(scanGray, 9, offset=8, method=\"gaussian\")\n",
    "scanBW = (scanGray > T).astype(\"uint8\") * 255# display final high-contrast image\n",
    "#---------------------------------------------------------\n",
    "cv2.imshow(\"FINAL!\", scanBW)\n",
    "cv2.waitKey(0)\n",
    "cv2.destroyAllWindows()"
   ]
  },
  {
   "cell_type": "code",
   "execution_count": null,
   "metadata": {},
   "outputs": [],
   "source": []
  }
 ],
 "metadata": {
  "kernelspec": {
   "display_name": "image",
   "language": "python",
   "name": "image"
  },
  "language_info": {
   "codemirror_mode": {
    "name": "ipython",
    "version": 3
   },
   "file_extension": ".py",
   "mimetype": "text/x-python",
   "name": "python",
   "nbconvert_exporter": "python",
   "pygments_lexer": "ipython3",
   "version": "3.6.10"
  }
 },
 "nbformat": 4,
 "nbformat_minor": 4
}
